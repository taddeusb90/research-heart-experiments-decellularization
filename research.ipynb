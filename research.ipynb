{
 "cells": [
  {
   "cell_type": "markdown",
   "metadata": {},
   "source": [
    "# Imports"
   ]
  },
  {
   "cell_type": "code",
   "execution_count": 1,
   "metadata": {},
   "outputs": [
    {
     "name": "stderr",
     "output_type": "stream",
     "text": [
      "/usr/lib/python3/dist-packages/ipywidgets/widgets/widget_selection.py:9: DeprecationWarning: Using or importing the ABCs from 'collections' instead of from 'collections.abc' is deprecated since Python 3.3, and in 3.9 it will stop working\n",
      "  from collections import Mapping\n",
      "/usr/lib/python3/dist-packages/ipywidgets/widgets/interaction.py:29: DeprecationWarning: Using or importing the ABCs from 'collections' instead of from 'collections.abc' is deprecated since Python 3.3, and in 3.9 it will stop working\n",
      "  from collections import Iterable, Mapping\n",
      "/usr/lib/python3/dist-packages/ipywidgets/widgets/widget_link.py:19: DeprecationWarning: Traits should be given as instances, not types (for example, `Int()`, not `Int`) Passing types is deprecated in traitlets 4.1.\n",
      "  super(WidgetTraitTuple, self).__init__(Instance(Widget), Unicode, **kwargs)\n"
     ]
    }
   ],
   "source": [
    "import shutil\n",
    "import numpy as np\n",
    "import matplotlib.pyplot as plt\n",
    "import tensorflow as tf\n",
    "from tensorflow.keras.models import Sequential, \\\n",
    "    Model, \\\n",
    "    load_model\n",
    "from tensorflow.keras.layers import Dense, \\\n",
    "    Activation, \\\n",
    "    Flatten, \\\n",
    "    Dropout, \\\n",
    "    Convolution2D, \\\n",
    "    MaxPooling2D\n",
    "from tensorflow.keras.utils import to_categorical\n",
    "from tensorflow.keras.preprocessing.image import ImageDataGenerator\n",
    "from tensorflow.keras.callbacks import EarlyStopping, ModelCheckpoint, TensorBoard\n",
    "from tensorflow.keras.metrics import Precision, \\\n",
    "    Recall, \\\n",
    "    AUC, \\\n",
    "    TruePositives, \\\n",
    "    TrueNegatives, \\\n",
    "    FalsePositives, \\\n",
    "    FalseNegatives, \\\n",
    "    SensitivityAtSpecificity, \\\n",
    "    SpecificityAtSensitivity\n",
    "from sklearn.metrics import classification_report, confusion_matrix\n",
    "import mlflow \n",
    "import seaborn as sns\n",
    "import cv2\n",
    "import glob\n",
    "import os\n",
    "import random\n",
    "from math import ceil\n",
    "from time import time"
   ]
  },
  {
   "cell_type": "markdown",
   "metadata": {},
   "source": [
    "## Extract heart from image"
   ]
  },
  {
   "cell_type": "code",
   "execution_count": 2,
   "metadata": {},
   "outputs": [
    {
     "name": "stdout",
     "output_type": "stream",
     "text": [
      "../data/sessions/1598688579-initial.jpg ../data/sessions/1598688579/incomplete/1598688580.jpg\n"
     ]
    }
   ],
   "source": [
    "first_session_init_image = glob.glob('../data/sessions/1598688579-initial.jpg')[0]\n",
    "first_session_images = glob.glob('../data/sessions/1598688579/incomplete/*.jpg', recursive=True)\n",
    "first_heart_image = first_session_images[0]\n",
    "last_heart_image = first_session_images[len(first_session_images)-1]\n",
    "\n",
    "print(first_session_init_image, first_heart_image)"
   ]
  },
  {
   "cell_type": "code",
   "execution_count": 3,
   "metadata": {},
   "outputs": [],
   "source": [
    "def extract_heart(init_img, actual): \n",
    "    img_1 = cv2.imread(actual)\n",
    "\n",
    "    diff = cv2.absdiff(init_img, img_1)\n",
    "    mask = cv2.cvtColor(diff, cv2.COLOR_BGR2GRAY)\n",
    "\n",
    "    th = 40\n",
    "    imask =  mask > th\n",
    "\n",
    "    canvas = np.zeros_like(img_1, np.uint8)\n",
    "    canvas[imask] = img_1[imask]\n",
    "#     left 186, top 0, width 850, height 720\n",
    "    canvas = canvas[0:720, 186:1036]\n",
    "    \n",
    "#     cv2.imshow('image', canvas)\n",
    "#     cv2.waitKey(0)\n",
    "#     number_of_pixels = 0\n",
    "#     total_of_pixels = 0\n",
    "#     for i in range(len(canvas)):\n",
    "#         for j in range(len(canvas[i])):\n",
    "#             avg = np.mean(canvas[i][j], )\n",
    "#             if (avg > 0):\n",
    "#                 number_of_pixels = number_of_pixels + 1\n",
    "#                 total_of_pixels = total_of_pixels + avg\n",
    "#     image_average = total_of_pixels / number_of_pixels\n",
    "    canvas = np.concatenate(canvas)\n",
    "#     canvas = np.concatenate(canvas)\n",
    "    canvas = np.nanmean(np.where(canvas!=0,canvas,np.nan),1)\n",
    "    image_average = np.nanmean(np.where(canvas!=0,canvas,np.nan),0)\n",
    "#     print(image_average)\n",
    "    return image_average\n",
    "    \n",
    "# extract_heart(first_session_init_image, first_heart_image)\n",
    "# extract_heart(first_session_init_image, last_heart_image)"
   ]
  },
  {
   "cell_type": "code",
   "execution_count": null,
   "metadata": {},
   "outputs": [
    {
     "name": "stderr",
     "output_type": "stream",
     "text": [
      "<ipython-input-3-056de7685c6f>:28: RuntimeWarning: Mean of empty slice\n",
      "  canvas = np.nanmean(np.where(canvas!=0,canvas,np.nan),1)\n"
     ]
    }
   ],
   "source": [
    "metrics = []\n",
    "init_image = cv2.imread(first_session_init_image)\n",
    "for image in first_session_images:\n",
    "    metrics.append(extract_heart(init_image, image))"
   ]
  },
  {
   "cell_type": "code",
   "execution_count": null,
   "metadata": {},
   "outputs": [],
   "source": [
    "plt.plot(metrics)\n",
    "plt.ylabel('Spectrometer')\n",
    "plt.show()"
   ]
  },
  {
   "cell_type": "markdown",
   "metadata": {},
   "source": [
    "# Load image data"
   ]
  },
  {
   "cell_type": "markdown",
   "metadata": {},
   "source": [
    "Split data set into class based dataset"
   ]
  },
  {
   "cell_type": "code",
   "execution_count": 62,
   "metadata": {
    "scrolled": true
   },
   "outputs": [
    {
     "name": "stdout",
     "output_type": "stream",
     "text": [
      "It takes ~8 hours to complete the process\n",
      "This session has:\n",
      "- 47562 images\n",
      "- 118.905 cycles\n",
      "- 6.666666666666667\n",
      "- 0% - 400 to 3200\n",
      "- 10% - 3600 to 6400\n",
      "- 20% - 6800 to 9600\n",
      "- 30% - 10000 to 12800\n",
      "- 40% - 13200 to 16000\n",
      "- 50% - 16400 to 19200\n",
      "- 60% - 19600 to 22400\n",
      "- 70% - 22800 to 25600\n",
      "- 80% - 26000 to 28800\n",
      "- 90% - 29200 to 32000\n",
      "- 100% - 44762 to 47562\n",
      "It takes ~8 hours to complete the process\n",
      "This session has:\n",
      "- 41239 images\n",
      "- 103.0975 cycles\n",
      "- 6.666666666666667\n",
      "- 0% - 400 to 3200\n",
      "- 10% - 3600 to 6400\n",
      "- 20% - 6800 to 9600\n",
      "- 30% - 10000 to 12800\n",
      "- 40% - 13200 to 16000\n",
      "- 50% - 16400 to 19200\n",
      "- 60% - 19600 to 22400\n",
      "- 70% - 22800 to 25600\n",
      "- 80% - 26000 to 28800\n",
      "- 90% - 29200 to 32000\n",
      "- 100% - 38439 to 41239\n",
      "It takes ~8 hours to complete the process\n",
      "This session has:\n",
      "- 32060 images\n",
      "- 80.15 cycles\n",
      "- 6.666666666666667\n",
      "- 0% - 400 to 3200\n",
      "- 10% - 3600 to 6400\n",
      "- 20% - 6800 to 9600\n",
      "- 30% - 10000 to 12800\n",
      "- 40% - 13200 to 16000\n",
      "- 50% - 16400 to 19200\n",
      "- 60% - 19600 to 22400\n",
      "- 70% - 22800 to 25600\n",
      "- 80% - 26000 to 28800\n",
      "- 90% - 29200 to 32000\n",
      "- 100% - 29260 to 32060\n",
      "It takes ~8 hours to complete the process\n",
      "This session has:\n",
      "- 39833 images\n",
      "- 99.5825 cycles\n",
      "- 6.666666666666667\n",
      "- 0% - 400 to 3200\n",
      "- 10% - 3600 to 6400\n",
      "- 20% - 6800 to 9600\n",
      "- 30% - 10000 to 12800\n",
      "- 40% - 13200 to 16000\n",
      "- 50% - 16400 to 19200\n",
      "- 60% - 19600 to 22400\n",
      "- 70% - 22800 to 25600\n",
      "- 80% - 26000 to 28800\n",
      "- 90% - 29200 to 32000\n",
      "- 100% - 37033 to 39833\n",
      "It takes ~8 hours to complete the process\n",
      "This session has:\n",
      "- 42128 images\n",
      "- 105.32 cycles\n",
      "- 6.666666666666667\n",
      "- 0% - 400 to 3200\n",
      "- 10% - 3600 to 6400\n",
      "- 20% - 6800 to 9600\n",
      "- 30% - 10000 to 12800\n",
      "- 40% - 13200 to 16000\n",
      "- 50% - 16400 to 19200\n",
      "- 60% - 19600 to 22400\n",
      "- 70% - 22800 to 25600\n",
      "- 80% - 26000 to 28800\n",
      "- 90% - 29200 to 32000\n",
      "- 100% - 39328 to 42128\n"
     ]
    }
   ],
   "source": [
    "first_session_images = glob.glob('../data/sessions/1598688579/incomplete/*.jpg', recursive=True)\n",
    "second_session_images = glob.glob('../data/sessions/1599374514/incomplete/*.jpg', recursive=True)\n",
    "third_session_images = glob.glob('../data/sessions/1601381361/incomplete/*.jpg', recursive=True)\n",
    "fourth_session_images = glob.glob('../data/sessions/1602315776/incomplete/*.jpg', recursive=True)\n",
    "fifth_session_images = glob.glob('../data/sessions/1603523854/incomplete/*.jpg', recursive=True)\n",
    "\n",
    "    \n",
    "def loadData(image_list, fold, gap):\n",
    "    print(\"It takes ~8 hours to complete the process\")\n",
    "    print(\"This session has:\")\n",
    "    print(f\"- {len(image_list)} images\")\n",
    "    print(f\"- {len(image_list) /  400} cycles\")\n",
    "    print(f\"- { 400 / 60 }\")\n",
    "    \n",
    "    for i in range(11):\n",
    "        os.makedirs(os.path.dirname(f\"../dataset/{str(i).zfill(2)}/\"), exist_ok=True)\n",
    "        if i == 10:\n",
    "            print(f\"- 100% - { len(image_list) - fold + gap } to { len(image_list) }\")\n",
    "            for j in range(len(image_list) - fold + gap, len(image_list)):\n",
    "                shutil.copy(image_list[j], f\"../dataset/{str(i).zfill(2)}/{image_list[j].split(sep='/')[5]}\",)\n",
    "            return\n",
    "        \n",
    "        print(f\"- {i * 10}% - { i * fold + gap } to { (i + 1) * fold }\")\n",
    "        for j in range(i * fold + gap, (i + 1) * fold): \n",
    "            shutil.copy(image_list[j], f\"../dataset/{str(i).zfill(2)}/{image_list[j].split(sep='/')[5]}\",)\n",
    "        \n",
    "    \n",
    "loadData(first_session_images, 3200, 400)\n",
    "loadData(second_session_images, 3200, 400)\n",
    "loadData(third_session_images, 3200, 400)\n",
    "loadData(fourth_session_images, 3200, 400)\n",
    "loadData(fifth_session_images, 3200, 400)"
   ]
  },
  {
   "cell_type": "markdown",
   "metadata": {},
   "source": [
    "# Image augumentation functions"
   ]
  },
  {
   "cell_type": "code",
   "execution_count": 2,
   "metadata": {},
   "outputs": [],
   "source": [
    "def loadImage(path):\n",
    "    img = cv2.imread(path)\n",
    "    return img\n",
    "\n",
    "def cropImage(img, left, top, width, height):\n",
    "#     left: 170, top: 40, width: 650, height: 650 \n",
    "    img = img[top:top+height, left:left+width]\n",
    "    return img\n",
    "\n",
    "def blurImage(img, blur):\n",
    "    img = cv2.blur(img, (blur, blur))\n",
    "    return img\n",
    "\n",
    "def resizeImage(img, size):\n",
    "    img = cv2.resize(img, (size, size), cv2.INTER_CUBIC)\n",
    "    return img\n",
    "\n",
    "def rotateImage(image, degree):\n",
    "    (rows, cols, ch) = image.shape\n",
    "    M = cv2.getRotationMatrix2D((cols/2,rows/2), degree, 1)\n",
    "    return cv2.warpAffine(image, M, (cols,rows), flags=cv2.INTER_LINEAR, borderMode=cv2.BORDER_REPLICATE)\n",
    "\n",
    "def saveImage(img, newPath):\n",
    "    cv2.imwrite(newPath, img)\n",
    "\n",
    "def preprocess_images(image_paths):\n",
    "    initial_folder = 'dataset'\n",
    "    new_folder = 'dataset-preprocessed'\n",
    "    os.makedirs(os.path.dirname(f\"../dataset-preprocessed/\"), exist_ok=True)\n",
    "    for i in range(11): \n",
    "        os.makedirs(os.path.dirname(f\"../dataset-preprocessed/{str(i).zfill(2)}/\"), exist_ok=True)\n",
    "    \n",
    "    for path in image_paths:\n",
    "        initial_image = loadImage(path)\n",
    "        shifts = [ 0 ]\n",
    "        shifts.append(np.random.randint(0, 100))\n",
    "        shifts.append(np.random.randint(0, 100))\n",
    "        shifts.append(np.random.randint(-100, 0))\n",
    "        shifts.append(np.random.randint(-100, 0))\n",
    "    \n",
    "\n",
    "        for i in shifts:\n",
    "            image = cropImage(initial_image, 186 + i, 0, 850, 720) \n",
    "            image = resizeImage(image, 200)\n",
    "            saveImage(image, path.replace(initial_folder, new_folder).replace('.jpg', f\"-resized-{i}.jpg\"))\n",
    "            image = blurImage(image, 5)\n",
    "            saveImage(image, path.replace(initial_folder, new_folder).replace('.jpg', f\"-blured-{i}.jpg\"))\n",
    "            image = rotateImage(image, np.random.randint(0, 360))\n",
    "            saveImage(image, path.replace(initial_folder, new_folder).replace('.jpg', f\"-rotated-{i}.jpg\"))\n",
    "\n",
    "\n",
    "def simple_preprocess_images(image_paths):\n",
    "    initial_folder = 'dataset'\n",
    "    new_folder = 'dataset-preprocessed'\n",
    "    os.makedirs(os.path.dirname(f\"../dataset-preprocessed/\"), exist_ok=True)\n",
    "    for i in range(11): \n",
    "        os.makedirs(os.path.dirname(f\"../dataset-preprocessed/{str(i).zfill(2)}/\"), exist_ok=True)\n",
    "    for path in image_paths:\n",
    "        initial_image = loadImage(path)\n",
    "        \n",
    "        image = cropImage(initial_image, 186 + i, 0, 850, 720) \n",
    "        image = resizeImage(image, 200)\n",
    "        saveImage(image, path.replace(initial_folder, new_folder))\n",
    "\n",
    "def moveAndCrop(session):\n",
    "    image_paths = glob.glob(f\"../data/sessions/{session}/**/*.jpg\", recursive=True)\n",
    "    incomplete_folder = f\"data/sessions/{session}/incomplete\"\n",
    "    complete_folder = f\"data/sessions/{session}/complete\"\n",
    "    new_folder = 'dataset-test'\n",
    "    destination_folder = f\"{new_folder}/{session}\"\n",
    "    os.makedirs(os.path.dirname(f\"../{new_folder}/\"), exist_ok=True)\n",
    "    os.makedirs(os.path.dirname(f\"../{destination_folder}/\"), exist_ok=True)\n",
    "    for path in image_paths:\n",
    "        initial_image = loadImage(path)\n",
    "        image = cropImage(initial_image, 186, 0, 850, 720) \n",
    "        image = resizeImage(image, 200)\n",
    "        saveImage(image, path.replace(incomplete_folder, destination_folder).replace(complete_folder, destination_folder))\n",
    "\n",
    "    "
   ]
  },
  {
   "cell_type": "code",
   "execution_count": 3,
   "metadata": {
    "scrolled": true
   },
   "outputs": [],
   "source": [
    "all_image_paths = glob.glob('../dataset/**/*.jpg', recursive=True)\n",
    "simple_preprocess_images(all_image_paths)\n"
   ]
  },
  {
   "cell_type": "code",
   "execution_count": 57,
   "metadata": {},
   "outputs": [],
   "source": [
    "# moveAndCrop('1598688579')\n",
    "# moveAndCrop('1599374514')\n",
    "# moveAndCrop('1601381361')\n",
    "# moveAndCrop('1602315776')\n",
    "# moveAndCrop('1603523854')"
   ]
  },
  {
   "cell_type": "markdown",
   "metadata": {},
   "source": [
    "### Plot dataset distribution, as we can see the classes are well ballanced"
   ]
  },
  {
   "cell_type": "code",
   "execution_count": 4,
   "metadata": {
    "scrolled": false
   },
   "outputs": [
    {
     "data": {
      "image/png": "[encoded data removed]",
      "text/plain": [
       "<Figure size 432x288 with 1 Axes>"
      ]
     },
     "metadata": {
      "needs_background": "light"
     },
     "output_type": "display_data"
    },
    {
     "name": "stdout",
     "output_type": "stream",
     "text": [
      "154000 items\n"
     ]
    }
   ],
   "source": [
    "\n",
    "def plotDistributionOfClasses(partial_path):\n",
    "    nimgs = {}\n",
    "    total = 0\n",
    "    \n",
    "    for i in range(11):\n",
    "        nimages = len(os.listdir(f\"../{partial_path}/{str(i).zfill(2)}/\"))\n",
    "        nimgs[i]=nimages\n",
    "        total = total + nimages\n",
    "        \n",
    "    plt.bar(range(len(nimgs)), list(nimgs.values()), align='center')\n",
    "    plt.xticks(range(len(nimgs)), list(nimgs.keys()))\n",
    "    plt.title('Distribution of different classes of Dataset')\n",
    "    plt.show()\n",
    "    print(f\"{total} items\") \n",
    "\n",
    "plotDistributionOfClasses('dataset-preprocessed')\n"
   ]
  },
  {
   "cell_type": "markdown",
   "metadata": {},
   "source": [
    "## Make train, validation and test split"
   ]
  },
  {
   "cell_type": "code",
   "execution_count": 5,
   "metadata": {},
   "outputs": [
    {
     "name": "stdout",
     "output_type": "stream",
     "text": [
      "154000\n",
      "123199\n",
      "15399\n",
      "15399\n"
     ]
    }
   ],
   "source": [
    "from_folder = 'dataset-preprocessed'\n",
    "to_folder = 'dataset-split'\n",
    "\n",
    "all_image_paths = glob.glob(f\"../{from_folder}/**/*.jpg\", recursive=True)\n",
    "print(len(all_image_paths))\n",
    "total_images = len(all_image_paths)\n",
    "train_images_limit = ceil(total_images / 10 * 8)\n",
    "validation_images_limit = ceil(total_images / 10 * 9)\n",
    "test_images_limit = total_images\n",
    "\n",
    "numbered_list = list(range(len(all_image_paths)))\n",
    "random.shuffle(numbered_list)\n",
    "old_image_list = [all_image_paths[index] for index in numbered_list]\n",
    "new_image_list = [all_image_paths[index] for index in numbered_list]\n",
    "\n",
    "train_split = new_image_list[0:train_images_limit - 1]\n",
    "print(len(train_split))\n",
    "validation_split = new_image_list[train_images_limit:validation_images_limit - 1]\n",
    "print(len(validation_split))\n",
    "test_split = new_image_list[validation_images_limit:test_images_limit - 1]\n",
    "print(len(test_split))\n",
    "\n",
    "for i in range(11):\n",
    "    os.makedirs(os.path.dirname(f\"../{to_folder}/train/{str(i).zfill(2)}/\"), exist_ok=True)\n",
    "    os.makedirs(os.path.dirname(f\"../{to_folder}/validation/{str(i).zfill(2)}/\"), exist_ok=True)\n",
    "    os.makedirs(os.path.dirname(f\"../{to_folder}/test/{str(i).zfill(2)}/\"), exist_ok=True)\n",
    "\n",
    "for i in range(len(train_split)):\n",
    "    new_path = train_split[i].replace(from_folder, f\"{to_folder}/train\")\n",
    "    shutil.copy(train_split[i], new_path)\n",
    "\n",
    "for i in range(len(validation_split)):\n",
    "    new_path = validation_split[i].replace(from_folder, f\"{to_folder}/validation\")\n",
    "    shutil.copy(validation_split[i], new_path)\n",
    "    \n",
    "for i in range(len(test_split)):\n",
    "    new_path = test_split[i].replace(from_folder, f\"{to_folder}/test\")\n",
    "    shutil.copy(test_split[i], new_path)\n",
    " "
   ]
  },
  {
   "cell_type": "markdown",
   "metadata": {},
   "source": [
    "## Plot class distributions of dataset split"
   ]
  },
  {
   "cell_type": "code",
   "execution_count": 6,
   "metadata": {},
   "outputs": [
    {
     "data": {
      "image/png": "[encoded data removed]",
      "text/plain": [
       "<Figure size 432x288 with 1 Axes>"
      ]
     },
     "metadata": {
      "needs_background": "light"
     },
     "output_type": "display_data"
    },
    {
     "name": "stdout",
     "output_type": "stream",
     "text": [
      "123199 items\n"
     ]
    },
    {
     "data": {
      "image/png": "[encoded data removed]",
      "text/plain": [
       "<Figure size 432x288 with 1 Axes>"
      ]
     },
     "metadata": {
      "needs_background": "light"
     },
     "output_type": "display_data"
    },
    {
     "name": "stdout",
     "output_type": "stream",
     "text": [
      "15399 items\n"
     ]
    },
    {
     "data": {
      "image/png": "[encoded data removed]",
      "text/plain": [
       "<Figure size 432x288 with 1 Axes>"
      ]
     },
     "metadata": {
      "needs_background": "light"
     },
     "output_type": "display_data"
    },
    {
     "name": "stdout",
     "output_type": "stream",
     "text": [
      "15399 items\n"
     ]
    }
   ],
   "source": [
    "plotDistributionOfClasses('dataset-split/train')\n",
    "plotDistributionOfClasses('dataset-split/validation')\n",
    "plotDistributionOfClasses('dataset-split/test')"
   ]
  },
  {
   "cell_type": "markdown",
   "metadata": {},
   "source": [
    "### Hyperparameters"
   ]
  },
  {
   "cell_type": "code",
   "execution_count": null,
   "metadata": {},
   "outputs": [],
   "source": [
    "train_len = 733219\n",
    "validation_len = 91651\n",
    "test_len = 91651\n",
    "size = 200\n",
    "batch_size = 32\n",
    "epochs = 50\n",
    "start_run_time = time()\n",
    "\n",
    "steps_per_epoch = ceil(train_len / batch_size)\n",
    "validation_steps = ceil(validation_len / batch_size)\n",
    "test_steps = ceil(test_len / batch_size)\n",
    "\n",
    "RUN_NAME = f\"cnn-s{size}-bs{batch_size}-e{epochs}-spe{steps_per_epoch}-{start_run_time}\""
   ]
  },
  {
   "cell_type": "markdown",
   "metadata": {},
   "source": [
    "### Create model"
   ]
  },
  {
   "cell_type": "code",
   "execution_count": null,
   "metadata": {},
   "outputs": [],
   "source": [
    "def createModel():\n",
    "    model = Sequential()\n",
    "    model.add(Convolution2D(24, (3, 3), activation='relu', input_shape=(size, size, 3)))                       \n",
    "    model.add(MaxPooling2D((2, 2)))\n",
    "    model.add(Convolution2D(48, (3, 3), activation='relu'))\n",
    "    model.add(MaxPooling2D((2, 2)))\n",
    "    model.add(Convolution2D(96, (3, 3), activation='relu'))\n",
    "    model.add(MaxPooling2D((2, 2)))\n",
    "    model.add(Convolution2D(96, (3, 3), activation='relu'))\n",
    "    model.add(MaxPooling2D((2, 2)))\n",
    "    model.add(Flatten())\n",
    "    model.add(Dense(384, activation='relu'))\n",
    "    model.add(Dense(11, activation='softmax'))\n",
    "    \n",
    "    model.summary()\n",
    "\n",
    "    model.compile(optimizer='Adam', loss='categorical_crossentropy', metrics=['accuracy', \n",
    "                                                                              AUC(), \n",
    "                                                                              Precision(), \n",
    "                                                                              Recall(),\n",
    "                                                                              TruePositives(),\n",
    "                                                                              TrueNegatives(),\n",
    "                                                                              FalsePositives(),\n",
    "                                                                              FalseNegatives(),\n",
    "#                                                                               SensitivityAtSpecificity(),\n",
    "#                                                                               SpecificityAtSensitivity()\n",
    "                                                                             ])\n",
    "    \n",
    "    return model"
   ]
  },
  {
   "cell_type": "markdown",
   "metadata": {},
   "source": [
    "### Image data generator"
   ]
  },
  {
   "cell_type": "code",
   "execution_count": null,
   "metadata": {},
   "outputs": [],
   "source": [
    "train_datagen = ImageDataGenerator(rotation_range=40,\n",
    "        width_shift_range=0.2,\n",
    "        height_shift_range=0.2,\n",
    "        rescale=1./255,\n",
    "        shear_range=0.2,\n",
    "        zoom_range=0.2,\n",
    "        horizontal_flip=True,\n",
    "        fill_mode='nearest')\n",
    "train_generator= train_datagen.flow_from_directory(f\"../dataset-split/train\",\n",
    "                                                   batch_size=batch_size,\n",
    "                                                   shuffle=True,\n",
    "                                                   class_mode='categorical',\n",
    "                                                   target_size=(size, size))\n",
    "\n",
    "\n",
    "validation_datagen = ImageDataGenerator(rotation_range=40,\n",
    "        width_shift_range=0.2,\n",
    "        height_shift_range=0.2,\n",
    "        rescale=1./255,\n",
    "        shear_range=0.2,\n",
    "        zoom_range=0.2,\n",
    "        horizontal_flip=True,\n",
    "        fill_mode='nearest')\n",
    "validation_generator = validation_datagen.flow_from_directory(f\"../dataset-split/validation\",\n",
    "                                                    batch_size=batch_size,\n",
    "                                                    shuffle=True,\n",
    "                                                    class_mode='categorical',\n",
    "                                                    target_size=(size, size))\n",
    "\n",
    "# test_generator = ImageDataGenerator(f\"../dataset-split/test\", class_mode=\"categorical\")\n"
   ]
  },
  {
   "cell_type": "code",
   "execution_count": null,
   "metadata": {},
   "outputs": [],
   "source": [
    "target_dir = './models/'\n",
    "if not os.path.exists(target_dir):\n",
    "    os.mkdir(target_dir)\n",
    "if not os.path.exists(f\"{target_dir}{RUN_NAME}\"):\n",
    "    os.mkdir(f\"{target_dir}{RUN_NAME}\")\n",
    "\n",
    "target_dir = f\"{target_dir}{RUN_NAME}\"\n",
    "\n",
    "best_model_file = f\"{target_dir}/best-weights.h5\"\n",
    "\n",
    "callbacks = [\n",
    "#     EarlyStopping(monitor='val_accuracy', patience=10, verbose=1, mode='auto'),\n",
    "    ModelCheckpoint(best_model_file, monitor='val_accuracy', verbose = 1, save_best_only = True),\n",
    "    TensorBoard(f\"logs/{RUN_NAME}\")\n",
    "]\n"
   ]
  },
  {
   "cell_type": "code",
   "execution_count": null,
   "metadata": {
    "scrolled": true
   },
   "outputs": [],
   "source": [
    "model = createModel()\n",
    "history = model.fit_generator(\n",
    "    train_generator,\n",
    "    validation_data=validation_generator,\n",
    "    epochs=epochs,\n",
    "    steps_per_epoch=steps_per_epoch,\n",
    "    validation_steps=validation_steps,\n",
    "    verbose=1,\n",
    "    callbacks=callbacks)"
   ]
  },
  {
   "cell_type": "markdown",
   "metadata": {},
   "source": [
    "# Save the model "
   ]
  },
  {
   "cell_type": "code",
   "execution_count": null,
   "metadata": {},
   "outputs": [],
   "source": [
    "loss = model.evaluate_generator(validation_generator, steps=validation_steps, verbose=1)"
   ]
  },
  {
   "cell_type": "code",
   "execution_count": null,
   "metadata": {},
   "outputs": [],
   "source": [
    "model.save(f\"{target_dir}/model.h5\")\n",
    "model.save_weights(f\"{target_dir}/weights.h5\")\n",
    "\n"
   ]
  },
  {
   "cell_type": "code",
   "execution_count": null,
   "metadata": {},
   "outputs": [],
   "source": [
    "# model = load_model(f\"{target_dir}/model.h5\")\n",
    "# model.load_weights(f\"{target_dir}/weights.h5\")\n",
    "# model.load_weights(f\"{target_dir}/best-weights.h5\")\n",
    "target_dir = 'models/cnn-s200-bs32-e120-spe1700--dr0.2-fn32-lr0.001'\n",
    "model = load_model(f\"{target_dir}/model.h5\")\n",
    "model.load_weights(f\"{target_dir}/best-weights.h5\")\n",
    "# model.load_weights(f\"{target_dir}/weights.h5\")"
   ]
  },
  {
   "cell_type": "code",
   "execution_count": null,
   "metadata": {},
   "outputs": [],
   "source": [
    "test_datagen = ImageDataGenerator()\n",
    "test_generator = test_datagen.flow_from_directory(f\"../dataset-split/test\",\n",
    "                                                    batch_size=batch_size,\n",
    "                                                    shuffle=False,\n",
    "                                                    class_mode='categorical',\n",
    "                                                    target_size=(size, size))\n"
   ]
  },
  {
   "cell_type": "code",
   "execution_count": 58,
   "metadata": {},
   "outputs": [],
   "source": [
    "predictions = model.predict_generator(test_generator, steps=test_steps, verbose=1)\n",
    "predictions = np.argmax(predictions, axis=1)\n"
   ]
  },
  {
   "cell_type": "code",
   "execution_count": 59,
   "metadata": {},
   "outputs": [
    {
     "name": "stdout",
     "output_type": "stream",
     "text": [
      "Confusion Matrix\n"
     ]
    },
    {
     "data": {
      "text/plain": [
       "<matplotlib.axes._subplots.AxesSubplot at 0x7fa7744496d0>"
      ]
     },
     "execution_count": 59,
     "metadata": {},
     "output_type": "execute_result"
    },
    {
     "data": {
      "image/png": "[encoded data removed]",
      "text/plain": [
       "<Figure size 1440x1152 with 2 Axes>"
      ]
     },
     "metadata": {
      "needs_background": "light"
     },
     "output_type": "display_data"
    }
   ],
   "source": [
    "# predictions = np.argmax(predictions, axis=1)\n",
    "\n",
    "print('Confusion Matrix')\n",
    "cm = confusion_matrix(test_generator.classes, predictions)\n",
    "fig, ax = plt.subplots(figsize=(20,16)) \n",
    "sns.heatmap(cm, annot=True, ax=ax, fmt='g', annot_kws={\"fontsize\":18})"
   ]
  },
  {
   "cell_type": "code",
   "execution_count": null,
   "metadata": {},
   "outputs": [],
   "source": [
    "fig.savefig('confusion-matrix.png')"
   ]
  },
  {
   "cell_type": "code",
   "execution_count": 53,
   "metadata": {},
   "outputs": [
    {
     "name": "stdout",
     "output_type": "stream",
     "text": [
      "Classification Report\n"
     ]
    },
    {
     "ename": "ValueError",
     "evalue": "Classification metrics can't handle a mix of multiclass and continuous-multioutput targets",
     "output_type": "error",
     "traceback": [
      "\u001b[0;31m---------------------------------------------------------------------------\u001b[0m",
      "\u001b[0;31mValueError\u001b[0m                                Traceback (most recent call last)",
      "\u001b[0;32m<ipython-input-53-ebeeef4dd077>\u001b[0m in \u001b[0;36m<module>\u001b[0;34m\u001b[0m\n\u001b[1;32m      1\u001b[0m \u001b[0mprint\u001b[0m\u001b[0;34m(\u001b[0m\u001b[0;34m'Classification Report'\u001b[0m\u001b[0;34m)\u001b[0m\u001b[0;34m\u001b[0m\u001b[0;34m\u001b[0m\u001b[0m\n\u001b[1;32m      2\u001b[0m \u001b[0mtarget_names\u001b[0m \u001b[0;34m=\u001b[0m \u001b[0;34m[\u001b[0m\u001b[0;34m'0'\u001b[0m\u001b[0;34m,\u001b[0m \u001b[0;34m'1'\u001b[0m\u001b[0;34m,\u001b[0m \u001b[0;34m'2'\u001b[0m\u001b[0;34m,\u001b[0m\u001b[0;34m'3'\u001b[0m\u001b[0;34m,\u001b[0m\u001b[0;34m'4'\u001b[0m\u001b[0;34m,\u001b[0m\u001b[0;34m'5'\u001b[0m\u001b[0;34m,\u001b[0m\u001b[0;34m'6'\u001b[0m\u001b[0;34m,\u001b[0m\u001b[0;34m'7'\u001b[0m\u001b[0;34m,\u001b[0m\u001b[0;34m'8'\u001b[0m\u001b[0;34m,\u001b[0m\u001b[0;34m'9'\u001b[0m\u001b[0;34m,\u001b[0m\u001b[0;34m'10'\u001b[0m\u001b[0;34m]\u001b[0m\u001b[0;34m\u001b[0m\u001b[0;34m\u001b[0m\u001b[0m\n\u001b[0;32m----> 3\u001b[0;31m \u001b[0mclass_report\u001b[0m \u001b[0;34m=\u001b[0m \u001b[0mclassification_report\u001b[0m\u001b[0;34m(\u001b[0m\u001b[0mtest_generator\u001b[0m\u001b[0;34m.\u001b[0m\u001b[0mclasses\u001b[0m\u001b[0;34m,\u001b[0m \u001b[0mpredictions\u001b[0m\u001b[0;34m,\u001b[0m \u001b[0mtarget_names\u001b[0m\u001b[0;34m=\u001b[0m\u001b[0mtarget_names\u001b[0m\u001b[0;34m)\u001b[0m\u001b[0;34m\u001b[0m\u001b[0;34m\u001b[0m\u001b[0m\n\u001b[0m\u001b[1;32m      4\u001b[0m \u001b[0mprint\u001b[0m\u001b[0;34m(\u001b[0m\u001b[0mclass_report\u001b[0m\u001b[0;34m)\u001b[0m\u001b[0;34m\u001b[0m\u001b[0;34m\u001b[0m\u001b[0m\n",
      "\u001b[0;32m/usr/lib/python3/dist-packages/sklearn/metrics/_classification.py\u001b[0m in \u001b[0;36mclassification_report\u001b[0;34m(y_true, y_pred, labels, target_names, sample_weight, digits, output_dict, zero_division)\u001b[0m\n\u001b[1;32m   1969\u001b[0m     \"\"\"\n\u001b[1;32m   1970\u001b[0m \u001b[0;34m\u001b[0m\u001b[0m\n\u001b[0;32m-> 1971\u001b[0;31m     \u001b[0my_type\u001b[0m\u001b[0;34m,\u001b[0m \u001b[0my_true\u001b[0m\u001b[0;34m,\u001b[0m \u001b[0my_pred\u001b[0m \u001b[0;34m=\u001b[0m \u001b[0m_check_targets\u001b[0m\u001b[0;34m(\u001b[0m\u001b[0my_true\u001b[0m\u001b[0;34m,\u001b[0m \u001b[0my_pred\u001b[0m\u001b[0;34m)\u001b[0m\u001b[0;34m\u001b[0m\u001b[0;34m\u001b[0m\u001b[0m\n\u001b[0m\u001b[1;32m   1972\u001b[0m \u001b[0;34m\u001b[0m\u001b[0m\n\u001b[1;32m   1973\u001b[0m     \u001b[0mlabels_given\u001b[0m \u001b[0;34m=\u001b[0m \u001b[0;32mTrue\u001b[0m\u001b[0;34m\u001b[0m\u001b[0;34m\u001b[0m\u001b[0m\n",
      "\u001b[0;32m/usr/lib/python3/dist-packages/sklearn/metrics/_classification.py\u001b[0m in \u001b[0;36m_check_targets\u001b[0;34m(y_true, y_pred)\u001b[0m\n\u001b[1;32m     87\u001b[0m \u001b[0;34m\u001b[0m\u001b[0m\n\u001b[1;32m     88\u001b[0m     \u001b[0;32mif\u001b[0m \u001b[0mlen\u001b[0m\u001b[0;34m(\u001b[0m\u001b[0my_type\u001b[0m\u001b[0;34m)\u001b[0m \u001b[0;34m>\u001b[0m \u001b[0;36m1\u001b[0m\u001b[0;34m:\u001b[0m\u001b[0;34m\u001b[0m\u001b[0;34m\u001b[0m\u001b[0m\n\u001b[0;32m---> 89\u001b[0;31m         raise ValueError(\"Classification metrics can't handle a mix of {0} \"\n\u001b[0m\u001b[1;32m     90\u001b[0m                          \"and {1} targets\".format(type_true, type_pred))\n\u001b[1;32m     91\u001b[0m \u001b[0;34m\u001b[0m\u001b[0m\n",
      "\u001b[0;31mValueError\u001b[0m: Classification metrics can't handle a mix of multiclass and continuous-multioutput targets"
     ]
    }
   ],
   "source": [
    "print('Classification Report')\n",
    "target_names = ['0', '1', '2','3','4','5','6','7','8','9','10']\n",
    "class_report = classification_report(test_generator.classes, predictions, target_names=target_names)\n",
    "print(class_report)\n"
   ]
  },
  {
   "cell_type": "code",
   "execution_count": null,
   "metadata": {},
   "outputs": [],
   "source": [
    "with open(\"classification-report.txt\", 'w') as f:\n",
    "    f.write(class_report)"
   ]
  },
  {
   "cell_type": "markdown",
   "metadata": {},
   "source": [
    "### Prediction test"
   ]
  },
  {
   "cell_type": "code",
   "execution_count": 1,
   "metadata": {},
   "outputs": [],
   "source": [
    "from tensorflow.keras.models import load_model\n",
    "from tensorflow.keras.preprocessing import image\n",
    "from tensorflow.keras.preprocessing.image import ImageDataGenerator\n",
    "import numpy as np"
   ]
  },
  {
   "cell_type": "code",
   "execution_count": 2,
   "metadata": {},
   "outputs": [],
   "source": [
    "model = load_model(\"models/cnn-all-loss-s200-bs32-e120-spe3850-dr0.15-fn32-lr0.001-rtl2-rr0.15/model.h5\")\n",
    "model.load_weights(\"models/cnn-all-loss-s200-bs32-e120-spe3850-dr0.15-fn32-lr0.001-rtl2-rr0.15/best-weights.h5\")"
   ]
  },
  {
   "cell_type": "markdown",
   "metadata": {},
   "source": [
    "#### Test on normal predictions"
   ]
  },
  {
   "cell_type": "code",
   "execution_count": 14,
   "metadata": {},
   "outputs": [
    {
     "name": "stdout",
     "output_type": "stream",
     "text": [
      "[10]\n"
     ]
    }
   ],
   "source": [
    "\n",
    "# test_datagen = ImageDataGenerator(rescale=1. / 255)\n",
    "# test_generator = test_datagen.flow_from_directory(f\"./test\",\n",
    "#                                                     batch_size=1,\n",
    "#                                                     shuffle=False,\n",
    "#                                                     class_mode='categorical',\n",
    "#                                                     target_size=(200, 200))\n",
    "\n",
    "img = image.load_img('./test/10/1599416780.jpg', target_size=(200, 200))\n",
    "img_array = image.img_to_array(img) * 0.00392156862745098\n",
    "# print(img_array)\n",
    "img_batch = np.expand_dims(img_array , axis=0)\n",
    "prediction = model.predict(img_batch)\n",
    "# batchX, batchy = test_generator.next()\n",
    "# print(batchX)\n",
    "# predictions = model.predict_generator(test_generator)\n",
    "classes = np.argmax(prediction, axis=1)\n",
    "print(classes)"
   ]
  },
  {
   "cell_type": "code",
   "execution_count": 3,
   "metadata": {},
   "outputs": [],
   "source": [
    "def makePredictionOnEntireSession(session):\n",
    "    image_paths = glob.glob(f\"../dataset-test/{session}/**/*.jpg\", recursive=True)\n",
    "    predictions = []\n",
    "    i = 0\n",
    "    for path in image_paths: \n",
    "        img = image.load_img(path, target_size=(200, 200))\n",
    "        img_array = image.img_to_array(img) * 0.00392156862745098\n",
    "        img_batch = np.expand_dims(img_array , axis=0)\n",
    "        prediction = model.predict(img_batch)\n",
    "        classes = np.argmax(prediction, axis=1)\n",
    "        time = path.split('/')[3].split('.')[0]\n",
    "        predicted_class = classes[0]\n",
    "        predictions.append([i, int(time), int(predicted_class)])\n",
    "        i = i + 1\n",
    "    \n",
    "    npred = np.asarray(predictions) \n",
    "    \n",
    "    plt.scatter(npred[:, 0], npred[:, 2], s=35, vmin=0, vmax=10, label=\"Classification\")\n",
    "    plt.xlabel(\"Time\")\n",
    "    plt.ylabel(\"Class\")\n",
    "    plt.legend(loc='upper left')\n",
    "    plt.show()"
   ]
  },
  {
   "cell_type": "code",
   "execution_count": 6,
   "metadata": {},
   "outputs": [
    {
     "data": {
      "image/png": "[encoded data removed]",
      "text/plain": [
       "<Figure size 432x288 with 1 Axes>"
      ]
     },
     "metadata": {
      "needs_background": "light"
     },
     "output_type": "display_data"
    }
   ],
   "source": [
    "makePredictionOnEntireSession('1598688579')"
   ]
  },
  {
   "cell_type": "code",
   "execution_count": 7,
   "metadata": {},
   "outputs": [
    {
     "data": {
      "image/png": "[encoded data removed]",
      "text/plain": [
       "<Figure size 432x288 with 1 Axes>"
      ]
     },
     "metadata": {
      "needs_background": "light"
     },
     "output_type": "display_data"
    }
   ],
   "source": [
    "makePredictionOnEntireSession('1599374514')"
   ]
  },
  {
   "cell_type": "code",
   "execution_count": 8,
   "metadata": {},
   "outputs": [
    {
     "data": {
      "image/png": "[encoded data removed]",
      "text/plain": [
       "<Figure size 432x288 with 1 Axes>"
      ]
     },
     "metadata": {
      "needs_background": "light"
     },
     "output_type": "display_data"
    }
   ],
   "source": [
    "makePredictionOnEntireSession('1601381361')"
   ]
  },
  {
   "cell_type": "code",
   "execution_count": 9,
   "metadata": {},
   "outputs": [
    {
     "data": {
      "image/png": "[encoded data removed]",
      "text/plain": [
       "<Figure size 432x288 with 1 Axes>"
      ]
     },
     "metadata": {
      "needs_background": "light"
     },
     "output_type": "display_data"
    }
   ],
   "source": [
    "makePredictionOnEntireSession('1602315776')"
   ]
  },
  {
   "cell_type": "code",
   "execution_count": 10,
   "metadata": {},
   "outputs": [
    {
     "data": {
      "image/png": "[encoded data removed]",
      "text/plain": [
       "<Figure size 432x288 with 1 Axes>"
      ]
     },
     "metadata": {
      "needs_background": "light"
     },
     "output_type": "display_data"
    }
   ],
   "source": [
    "makePredictionOnEntireSession('1603523854')"
   ]
  },
  {
   "cell_type": "code",
   "execution_count": null,
   "metadata": {},
   "outputs": [],
   "source": [
    "# npred = np.asarray(predictions) \n",
    "# print(npred.shape)"
   ]
  },
  {
   "cell_type": "code",
   "execution_count": null,
   "metadata": {},
   "outputs": [],
   "source": [
    "# plt.scatter(npred[:, 0], npred[:, 2], s=35, vmin=0, vmax=10, label=\"Classification\")\n",
    "# plt.xlabel(\"Time\")\n",
    "# plt.ylabel(\"Class\")\n",
    "# plt.legend(loc='upper left')\n",
    "# plt.show()"
   ]
  },
  {
   "cell_type": "markdown",
   "metadata": {},
   "source": [
    "### Convert python model into js model"
   ]
  },
  {
   "cell_type": "code",
   "execution_count": 15,
   "metadata": {},
   "outputs": [
    {
     "name": "stderr",
     "output_type": "stream",
     "text": [
      "/home/taddeus/.local/lib/python3.8/site-packages/tensorflowjs/converters/keras_h5_conversion.py:123: H5pyDeprecationWarning: The default file mode will change to 'r' (read-only) in h5py 3.0. To suppress this warning, pass the mode you need to h5py.File(), or set the global default h5.get_config().default_file_mode, or set the environment variable H5PY_DEFAULT_READONLY=1. Available modes are: 'r', 'r+', 'w', 'w-'/'x', 'a'. See the docs for details.\n",
      "  return h5py.File(h5file)\n"
     ]
    }
   ],
   "source": [
    "import tensorflowjs as tfjs\n",
    "from tensorflow.keras.models import load_model\n",
    "\n",
    "model = load_model(\"models/cnn-no-suf-loss-s200-bs32-e120-spe1540-dr0.15-fn32-lr0.001-rtl2-rr0.15/model.h5\")\n",
    "model.load_weights(\"models/cnn-no-suf-loss-s200-bs32-e120-spe1540-dr0.15-fn32-lr0.001-rtl2-rr0.15/best-weights.h5\")\n",
    "tfjs.converters.save_keras_model(model, 'tfjs_models')\n"
   ]
  },
  {
   "cell_type": "code",
   "execution_count": null,
   "metadata": {},
   "outputs": [],
   "source": [
    "!pip install tensorflowjs tensorflow-gpu==2.3.1"
   ]
  },
  {
   "cell_type": "code",
   "execution_count": null,
   "metadata": {},
   "outputs": [],
   "source": []
  }
 ],
 "metadata": {
  "kernelspec": {
   "display_name": "Python 3",
   "language": "python",
   "name": "python3"
  },
  "language_info": {
   "codemirror_mode": {
    "name": "ipython",
    "version": 3
   },
   "file_extension": ".py",
   "mimetype": "text/x-python",
   "name": "python",
   "nbconvert_exporter": "python",
   "pygments_lexer": "ipython3",
   "version": "3.8.5"
  }
 },
 "nbformat": 4,
 "nbformat_minor": 4
}
